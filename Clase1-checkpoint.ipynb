{
 "cells": [
  {
   "cell_type": "markdown",
   "id": "1adc523e-aadb-4ad9-80e2-5c947e270282",
   "metadata": {},
   "source": [
    "# Clase 1\n",
    "\n",
    "Veamos las bases de Phyton"
   ]
  },
  {
   "cell_type": "markdown",
   "id": "7e7ddaad-3663-427b-8477-4162ee000ec1",
   "metadata": {},
   "source": [
    "## Tipos de Datos"
   ]
  },
  {
   "cell_type": "code",
   "execution_count": 3,
   "id": "68577dc2-ea0f-4ee6-89e1-25871bf4fdc0",
   "metadata": {},
   "outputs": [],
   "source": [
    "variable_string = \"Hola, soy una variable\" #Creamos una variable de tipo texto."
   ]
  },
  {
   "cell_type": "code",
   "execution_count": 4,
   "id": "abc18204-5272-456e-8681-1b47798e0afe",
   "metadata": {},
   "outputs": [
    {
     "name": "stdout",
     "output_type": "stream",
     "text": [
      "Hola, soy una variable\n"
     ]
    }
   ],
   "source": [
    "print(variable_string)"
   ]
  },
  {
   "cell_type": "code",
   "execution_count": 5,
   "id": "dd6b3c68-fed8-4471-9205-2572c47fcf43",
   "metadata": {},
   "outputs": [
    {
     "data": {
      "text/plain": [
       "'Hola, soy una variable'"
      ]
     },
     "execution_count": 5,
     "metadata": {},
     "output_type": "execute_result"
    }
   ],
   "source": [
    "variable_string"
   ]
  },
  {
   "cell_type": "code",
   "execution_count": 6,
   "id": "91814786-05c2-42c0-b343-25df69110eba",
   "metadata": {},
   "outputs": [
    {
     "data": {
      "text/plain": [
       "str"
      ]
     },
     "execution_count": 6,
     "metadata": {},
     "output_type": "execute_result"
    }
   ],
   "source": [
    "type(variable_string)"
   ]
  },
  {
   "cell_type": "code",
   "execution_count": 11,
   "id": "38cbb87c-60e6-405b-9518-e61779e37d50",
   "metadata": {},
   "outputs": [
    {
     "data": {
      "text/plain": [
       "2024"
      ]
     },
     "execution_count": 11,
     "metadata": {},
     "output_type": "execute_result"
    }
   ],
   "source": [
    "variableInteger = 2024\n",
    "variableInteger"
   ]
  },
  {
   "cell_type": "code",
   "execution_count": 12,
   "id": "63b1f1d6-fa55-42f6-b219-58cc826c0eb9",
   "metadata": {},
   "outputs": [
    {
     "data": {
      "text/plain": [
       "int"
      ]
     },
     "execution_count": 12,
     "metadata": {},
     "output_type": "execute_result"
    }
   ],
   "source": [
    "type(variableInteger)"
   ]
  },
  {
   "cell_type": "code",
   "execution_count": 19,
   "id": "c3b3d6e9-283a-4da6-8ae7-48545b1d7502",
   "metadata": {},
   "outputs": [
    {
     "data": {
      "text/plain": [
       "(2.4521, float)"
      ]
     },
     "execution_count": 19,
     "metadata": {},
     "output_type": "execute_result"
    }
   ],
   "source": [
    "variableDecimal = 2.4521\n",
    "variableDecimal, type(variableDecimal)"
   ]
  },
  {
   "cell_type": "code",
   "execution_count": null,
   "id": "72be959b-3b14-4d2d-8f52-790d19c0e3db",
   "metadata": {},
   "outputs": [],
   "source": []
  }
 ],
 "metadata": {
  "kernelspec": {
   "display_name": "Python 3 (ipykernel)",
   "language": "python",
   "name": "python3"
  },
  "language_info": {
   "codemirror_mode": {
    "name": "ipython",
    "version": 3
   },
   "file_extension": ".py",
   "mimetype": "text/x-python",
   "name": "python",
   "nbconvert_exporter": "python",
   "pygments_lexer": "ipython3",
   "version": "3.11.7"
  }
 },
 "nbformat": 4,
 "nbformat_minor": 5
}
