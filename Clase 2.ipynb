{
 "cells": [
  {
   "cell_type": "markdown",
   "id": "c0f62e7c-2163-47fd-9763-46e60893395c",
   "metadata": {},
   "source": [
    "# CLASE 2\r\n",
    "## \n",
    "IF ELIF ELSE\n",
    "\r\n",
    "El if else en Python es una estructura de control que permite ejecutar bloques de código diferentes dependiendo de si una condición es verdadera o falsa. Si la condición dada es verdadera, se ejecuta el bloque de código dentro del if; de lo contrario, se ejecuta el bloque de código dentro del els\n",
    "\n",
    "### Ejercicio 1.0\n",
    "\n",
    "Comparamos valores numéricos.\n",
    "e."
   ]
  },
  {
   "cell_type": "code",
   "execution_count": 3,
   "id": "887fed2d-7b00-4d53-b373-95bd6983e08e",
   "metadata": {},
   "outputs": [
    {
     "name": "stdout",
     "output_type": "stream",
     "text": [
      "El número ingresado es mayor a 0\n"
     ]
    }
   ],
   "source": [
    "numero_de_prueba= 5 #creo la variable\n",
    "\n",
    "if numero_de_prueba> 0: #defino mi if\n",
    "    print(\"El número ingresado es mayor a 0\")\n",
    "\n"
   ]
  },
  {
   "cell_type": "markdown",
   "id": "5687d98a-f705-4e6a-9aa1-668c973a6455",
   "metadata": {},
   "source": [
    "### Ejercicio 1.1\n",
    "\r\n",
    "Creemos un código que detecte cuandola edad de  una persona es mayoro igual a 18 añosf"
   ]
  },
  {
   "cell_type": "code",
   "execution_count": 5,
   "id": "363bb0f6-8644-469c-acbc-1229cfe9d828",
   "metadata": {},
   "outputs": [
    {
     "name": "stdout",
     "output_type": "stream",
     "text": [
      "Ud es mayor de edad\n"
     ]
    }
   ],
   "source": [
    "edad_ingresada= 20\n",
    "\n",
    "if edad_ingresada >= 18:\n",
    "    print(\"Ud es mayor de edad\")"
   ]
  },
  {
   "cell_type": "code",
   "execution_count": 6,
   "id": "ed8f0b4d-08ec-4c73-b1c8-9b210de31a92",
   "metadata": {},
   "outputs": [
    {
     "name": "stdout",
     "output_type": "stream",
     "text": [
      "Ud es mayor de edad\n"
     ]
    }
   ],
   "source": [
    "edad_ingresada= 20\n",
    "mayoria_de_edad= 18\n",
    "if edad_ingresada >= mayoria_de_edad:\n",
    "    print(\"Ud es mayor de edad\")"
   ]
  },
  {
   "cell_type": "markdown",
   "id": "868363c2-ff9e-49a7-9fa9-3c343bd6d9ac",
   "metadata": {},
   "source": [
    "### Ejercico 1.2\n",
    "\n",
    "Mostramos un mje cuando la edad ingresada no se coresponde con la edad para votar"
   ]
  },
  {
   "cell_type": "code",
   "execution_count": 7,
   "id": "41701038-f11f-446d-bcbd-e330867ac21c",
   "metadata": {},
   "outputs": [
    {
     "name": "stdout",
     "output_type": "stream",
     "text": [
      "Ud puede votar\n"
     ]
    }
   ],
   "source": [
    "edad_votante= 30\n",
    "edad_minima_votante= 16\n",
    "\n",
    "if edad_votante>= edad_minima_votante:\n",
    "    print(\"Ud puede votar\")\n",
    "else: print(\"Ud no tiene la edad necesaria para votar\")\n",
    "\n"
   ]
  },
  {
   "cell_type": "code",
   "execution_count": 8,
   "id": "095e3ed9-64ef-433a-8d82-0e1398423686",
   "metadata": {},
   "outputs": [
    {
     "name": "stdout",
     "output_type": "stream",
     "text": [
      "Ud no tiene la edad necesaria para votar\n"
     ]
    }
   ],
   "source": [
    "edad_votante= 8\n",
    "edad_minima_votante= 16\n",
    "\n",
    "if edad_votante>= edad_minima_votante:\n",
    "    print(\"Ud puede votar\")\n",
    "else: print(\"Ud no tiene la edad necesaria para votar\")"
   ]
  },
  {
   "cell_type": "markdown",
   "id": "64e996be-195a-4619-8ed2-7798742ce44c",
   "metadata": {},
   "source": [
    "### Ejercicio 1.3\n",
    "\n",
    "Utilizaremos booleanos con if. "
   ]
  },
  {
   "cell_type": "code",
   "execution_count": 1,
   "id": "bf303827-8aaa-405c-b9ad-36fa0e5a4277",
   "metadata": {},
   "outputs": [
    {
     "data": {
      "text/plain": [
       "(True, bool)"
      ]
     },
     "execution_count": 1,
     "metadata": {},
     "output_type": "execute_result"
    }
   ],
   "source": [
    "profesor_activo= True\n",
    "\n",
    "profesor_activo, type(profesor_activo)"
   ]
  },
  {
   "cell_type": "code",
   "execution_count": 2,
   "id": "82141a6b-396c-43c6-ba0e-d43b78b6664b",
   "metadata": {},
   "outputs": [
    {
     "name": "stdout",
     "output_type": "stream",
     "text": [
      "Bienvenido a la plataforma de Alkemy\n"
     ]
    }
   ],
   "source": [
    "if profesor_activo == True:\n",
    "    print(\"Bienvenido a la plataforma de Alkemy\")\n",
    "else:\n",
    "    print(\"Contáctese con Soporte para Profesores\")\n"
   ]
  },
  {
   "cell_type": "markdown",
   "id": "aa441be4-f679-46b7-a211-29298ca977f5",
   "metadata": {},
   "source": [
    "\n",
    "### Ejercicio 1.4\n",
    "\n",
    "Utilizaremos booleanos e If con variables de texto (str)\n"
   ]
  },
  {
   "cell_type": "code",
   "execution_count": 4,
   "id": "f8dccbb2-d68e-4f1d-818d-c8eeececb1ed",
   "metadata": {},
   "outputs": [
    {
     "name": "stdout",
     "output_type": "stream",
     "text": [
      "Los países ingresados no son iguales\n"
     ]
    }
   ],
   "source": [
    "pais1 = \"argentina\"\n",
    "pais2 = \"uruguay\"\n",
    "pais3 = \"Argentina\"\n",
    "\n",
    "if pais1 == pais2:\n",
    "    print(\"Los paises ingresados son iguales\")\n",
    "\n",
    "else:\n",
    "    print(\"Los países ingresados no son iguales\")"
   ]
  },
  {
   "cell_type": "code",
   "execution_count": 5,
   "id": "55c6107a-fef2-4e42-8965-f6493d34414e",
   "metadata": {},
   "outputs": [
    {
     "data": {
      "text/plain": [
       "False"
      ]
     },
     "execution_count": 5,
     "metadata": {},
     "output_type": "execute_result"
    }
   ],
   "source": [
    "pais1 == pais3\n"
   ]
  },
  {
   "cell_type": "code",
   "execution_count": null,
   "id": "40fc67b7-b0cf-4232-b53a-51d5f98ac061",
   "metadata": {},
   "outputs": [],
   "source": []
  },
  {
   "cell_type": "markdown",
   "id": "a4d65f66-201c-4652-b208-165bc64625a4",
   "metadata": {},
   "source": [
    "### Ejercicio 1.5\n",
    "\n",
    "Utilización del término elif, para crear otro bloque de consultas"
   ]
  },
  {
   "cell_type": "code",
   "execution_count": 8,
   "id": "0cd0fb84-fe69-4d36-9f91-2cb9f2931bd5",
   "metadata": {},
   "outputs": [
    {
     "name": "stdout",
     "output_type": "stream",
     "text": [
      "Adelante, en ésta veterinaria sí atendemos gatos\n"
     ]
    }
   ],
   "source": [
    "animal = \"gato\"\n",
    "\n",
    "if animal == \"perro\":\n",
    "    print(\"Adelante, en ésta veterinara sí atendemos perros\")\n",
    "\n",
    "elif animal == \"gato\":\n",
    "    print(\"Adelante, en ésta veterinaria sí atendemos gatos\")\n",
    "\n",
    "else:\n",
    "    print(\"Disculpe, en ésta veterinaria sólo se atienden perros y gatos\")\n"
   ]
  },
  {
   "cell_type": "code",
   "execution_count": null,
   "id": "181865e9-fe8d-41ae-a93d-9581b37dbf1e",
   "metadata": {},
   "outputs": [],
   "source": []
  },
  {
   "cell_type": "markdown",
   "id": "bfd8c65a-6443-4fd1-8352-462bcbcc893b",
   "metadata": {},
   "source": [
    "### Ejercicio 1.6\n",
    "\n",
    "Trabajo con multiples elif"
   ]
  },
  {
   "cell_type": "code",
   "execution_count": 9,
   "id": "d82fad88-3000-4a0e-807c-f67ac4d83b4f",
   "metadata": {},
   "outputs": [
    {
     "name": "stdout",
     "output_type": "stream",
     "text": [
      "Ud ingresó un color primario: amarillo\n"
     ]
    }
   ],
   "source": [
    "color = \"amarillo\"\n",
    "\n",
    "if color == \"azul\":\n",
    "    print(\"Ud ingresó un color primario:\", color)\n",
    "elif color == \"rojo\":\n",
    "    print(\"Ud ingresó un color primario:\", color)\n",
    "elif color == \"amarillo\":\n",
    "    print(\"Ud ingresó un color primario:\", color)\n",
    "else:\n",
    "    print(\"Ud no ingresó un color primario:\", color)"
   ]
  },
  {
   "cell_type": "code",
   "execution_count": null,
   "id": "eff24a6b-a73f-4086-89e1-9f9678f90dc1",
   "metadata": {},
   "outputs": [],
   "source": []
  },
  {
   "cell_type": "markdown",
   "id": "bda850c9-0107-47ed-ac87-624bc867dc7c",
   "metadata": {},
   "source": [
    "### Ejercicio 1.7\n",
    "\n",
    "Utilicemos un AND -> **&**\n",
    "Vamos a crear un cófdigo donde la persona ingrese sus datos, y en función a ellos, eel sistenma le indique si puede o no jubilarse.\n",
    "Condiciones: Hombre: ser mayor de 65 años;\n",
    "             Mujer: Ser mayor de 62 años."
   ]
  },
  {
   "cell_type": "code",
   "execution_count": 11,
   "id": "59f2617e-65ec-41b9-b3f5-3244944953d0",
   "metadata": {},
   "outputs": [
    {
     "name": "stdout",
     "output_type": "stream",
     "text": [
      "Ud se puede jubilar\n"
     ]
    }
   ],
   "source": [
    "edad_persona = 67\n",
    "genero = \"M\"\n",
    "anios_aporte = 25\n",
    "\n",
    "if(genero == \"H\")&(edad_persona >= 65)&(anios_aporte >= 25):\n",
    "    print(\"Ud se puede jubilar\")\n",
    "elif(genero == \"M\")&(edad_persona>=62)&(anios_aporte >= 25):\n",
    "    print(\"Ud se puede jubilar\")\n",
    "else:\n",
    "    print(\"Ud no cumple con las condiciones jubilatorias\")"
   ]
  },
  {
   "cell_type": "code",
   "execution_count": null,
   "id": "b7cb2601-4bd2-4580-b9ab-1a5db01000f7",
   "metadata": {},
   "outputs": [],
   "source": []
  },
  {
   "cell_type": "markdown",
   "id": "38941082-af9f-45ba-9c1f-96d7eea24fc9",
   "metadata": {},
   "source": [
    "### Ejercicio 1.8\n",
    "\n",
    "Utilizaremos el operador lógico OR -> **|**\n",
    "\n",
    "Crear un codigo que en función a su cargo en Alkemy (Profesor, Coordinador) les muestre un determinado mje, y si no lo es, lo considere como Alumno."
   ]
  },
  {
   "cell_type": "code",
   "execution_count": 12,
   "id": "88d8be17-70b1-4620-9e20-261e44929868",
   "metadata": {},
   "outputs": [
    {
     "name": "stdout",
     "output_type": "stream",
     "text": [
      "Usted tiene acceso como Administrador al Slack\n"
     ]
    }
   ],
   "source": [
    "puesto = \"profesor\"\n",
    "\n",
    "if (puesto == \"profesor\") | (puesto == \"coordinador\") | (puesto == \"moderador\"):\n",
    "    print(\"Usted tiene acceso como Administrador al Slack\")\n",
    "else:\n",
    "    print(\"Ud tiene acceso como Alumno\")"
   ]
  },
  {
   "cell_type": "code",
   "execution_count": null,
   "id": "8b036882-6e1f-4810-a2fa-fc41d7554bb5",
   "metadata": {},
   "outputs": [],
   "source": []
  },
  {
   "cell_type": "markdown",
   "id": "7f5c7e81-2fff-4467-a504-606584396f6f",
   "metadata": {},
   "source": [
    "## Funciones Nativas\n",
    "\n",
    "Funciones o código que realiza una acción y ya viene integreado en Phyton\n",
    "\n"
   ]
  },
  {
   "cell_type": "markdown",
   "id": "ab0c41b2-9b56-4522-8310-86baaa865bd6",
   "metadata": {},
   "source": [
    "### print()\n"
   ]
  },
  {
   "cell_type": "code",
   "execution_count": null,
   "id": "7708001c-9a15-4ebd-af48-1ff1021640ac",
   "metadata": {},
   "outputs": [],
   "source": []
  },
  {
   "cell_type": "code",
   "execution_count": 17,
   "id": "a6ad664e-c678-4187-9bc0-5fd3091f1e6b",
   "metadata": {},
   "outputs": [
    {
     "name": "stdout",
     "output_type": "stream",
     "text": [
      "Mi nombre es Leticia \n",
      "y mi edad es 47\n"
     ]
    }
   ],
   "source": [
    "mi_nombre = \"Leticia\"\n",
    "mi_edad = 47\n",
    "\n",
    "print(\"Mi nombre es\", mi_nombre, \"\\ny mi edad es\", mi_edad)\n",
    "\n"
   ]
  },
  {
   "cell_type": "markdown",
   "id": "ee40c17c-38e1-4266-80a2-64c373621b7d",
   "metadata": {},
   "source": [
    "\n",
    "\\n es un salto de linea, pasa a la linea siguiente de codigo."
   ]
  },
  {
   "cell_type": "code",
   "execution_count": null,
   "id": "5a8d0ca2-4bb2-4be9-b72f-ae38d399d99c",
   "metadata": {},
   "outputs": [],
   "source": []
  },
  {
   "cell_type": "markdown",
   "id": "13103112-e09d-4765-b86d-b2f33a4b4c22",
   "metadata": {},
   "source": [
    "### type()"
   ]
  },
  {
   "cell_type": "code",
   "execution_count": null,
   "id": "ef574504-85cb-4fbe-b0fe-832c16a2f24a",
   "metadata": {},
   "outputs": [],
   "source": []
  },
  {
   "cell_type": "code",
   "execution_count": 18,
   "id": "3d68a788-3e47-49f5-8686-c4b17dd01d0d",
   "metadata": {},
   "outputs": [
    {
     "data": {
      "text/plain": [
       "str"
      ]
     },
     "execution_count": 18,
     "metadata": {},
     "output_type": "execute_result"
    }
   ],
   "source": [
    "type(mi_nombre)"
   ]
  },
  {
   "cell_type": "code",
   "execution_count": 19,
   "id": "27709868-ad05-48ef-98aa-23aeed7d92b3",
   "metadata": {},
   "outputs": [
    {
     "data": {
      "text/plain": [
       "int"
      ]
     },
     "execution_count": 19,
     "metadata": {},
     "output_type": "execute_result"
    }
   ],
   "source": [
    "type(mi_edad)"
   ]
  },
  {
   "cell_type": "code",
   "execution_count": null,
   "id": "bdbbf3a5-f91a-453a-ac37-90326c8da9a2",
   "metadata": {},
   "outputs": [],
   "source": []
  },
  {
   "cell_type": "markdown",
   "id": "7668f4a0-77de-49d5-a945-f60b0fcfc368",
   "metadata": {},
   "source": [
    "### exec()\n",
    "\n",
    "Ejecuta texto que tenga código"
   ]
  },
  {
   "cell_type": "code",
   "execution_count": null,
   "id": "94d0d0e0-42a5-4275-a6ef-4cddbb8ea200",
   "metadata": {},
   "outputs": [],
   "source": []
  },
  {
   "cell_type": "code",
   "execution_count": 20,
   "id": "69249581-1f10-4fe5-99be-ba83bf78e177",
   "metadata": {},
   "outputs": [
    {
     "data": {
      "text/plain": [
       "'print(\"Soy un codigo disfrazado de texto\")'"
      ]
     },
     "execution_count": 20,
     "metadata": {},
     "output_type": "execute_result"
    }
   ],
   "source": [
    "codigo_en_texto = 'print(\"Soy un codigo disfrazado de texto\")'\n",
    "\n",
    "codigo_en_texto"
   ]
  },
  {
   "cell_type": "code",
   "execution_count": null,
   "id": "a206cccb-bf25-4807-a833-24568e953f64",
   "metadata": {},
   "outputs": [],
   "source": []
  },
  {
   "cell_type": "code",
   "execution_count": 21,
   "id": "f1ba1e82-61fa-4f6f-bd8e-e10c2925c580",
   "metadata": {},
   "outputs": [
    {
     "data": {
      "text/plain": [
       "str"
      ]
     },
     "execution_count": 21,
     "metadata": {},
     "output_type": "execute_result"
    }
   ],
   "source": [
    "type(codigo_en_texto)"
   ]
  },
  {
   "cell_type": "code",
   "execution_count": null,
   "id": "939c5202-4a5a-4241-baeb-fdf99ea373eb",
   "metadata": {},
   "outputs": [],
   "source": []
  },
  {
   "cell_type": "code",
   "execution_count": 22,
   "id": "be83955c-5b01-4a50-986f-4400aa746cc5",
   "metadata": {},
   "outputs": [
    {
     "name": "stdout",
     "output_type": "stream",
     "text": [
      "Soy un codigo disfrazado de texto\n"
     ]
    }
   ],
   "source": [
    "exec(codigo_en_texto)"
   ]
  },
  {
   "cell_type": "code",
   "execution_count": null,
   "id": "f11bd9ba-0ce2-42cd-bb71-8a3f06b71eba",
   "metadata": {},
   "outputs": [],
   "source": []
  },
  {
   "cell_type": "markdown",
   "id": "0bf47d3a-7821-49e1-a305-7d7a84472020",
   "metadata": {},
   "source": [
    "### format()\n",
    "\n",
    "Permite ingresar variabñes a strings"
   ]
  },
  {
   "cell_type": "code",
   "execution_count": null,
   "id": "dc9d1cdf-01b6-4f91-afa2-e967910cbff0",
   "metadata": {},
   "outputs": [],
   "source": []
  },
  {
   "cell_type": "code",
   "execution_count": 24,
   "id": "01b75200-c793-4953-96e6-0411f09e0e5f",
   "metadata": {},
   "outputs": [
    {
     "name": "stdout",
     "output_type": "stream",
     "text": [
      "El alumno Andrés se sacó una nota de 8 en el exámen de Phyton\n"
     ]
    }
   ],
   "source": [
    "nombre_alumno = \"Andrés\"\n",
    "nota_examen = 8\n",
    "materia_rendida = \"Phyton\"\n",
    "\n",
    "\n",
    "mensaje = \"El alumno {} se sacó una nota de {} en el exámen de {}\". format(nombre_alumno, nota_examen, materia_rendida)\n",
    "\n",
    "print(mensaje) "
   ]
  },
  {
   "cell_type": "code",
   "execution_count": null,
   "id": "b4423812-7c54-4745-ba22-51e25ec2bb22",
   "metadata": {},
   "outputs": [],
   "source": []
  },
  {
   "cell_type": "markdown",
   "id": "2e072af6-a76f-41e8-84df-4977fdc8b6cd",
   "metadata": {},
   "source": [
    "### input()\n",
    "\n",
    "Permite ingresar valores en una celda innteractiva "
   ]
  },
  {
   "cell_type": "code",
   "execution_count": null,
   "id": "87d025db-8f65-470e-8798-374004177589",
   "metadata": {},
   "outputs": [],
   "source": []
  },
  {
   "cell_type": "code",
   "execution_count": 25,
   "id": "187e8702-3cb7-4c45-8560-17b02b5c95a4",
   "metadata": {},
   "outputs": [
    {
     "name": "stdin",
     "output_type": "stream",
     "text": [
      "Por favor, ingrese su usuario:  Leticia Mores\n"
     ]
    },
    {
     "name": "stdout",
     "output_type": "stream",
     "text": [
      "Bienvenido:  Leticia Mores\n"
     ]
    }
   ],
   "source": [
    "nombre_usuario = input(\"Por favor, ingrese su usuario: \")\n",
    "\n",
    "print(\"Bienvenido: \", nombre_usuario)"
   ]
  },
  {
   "cell_type": "code",
   "execution_count": null,
   "id": "96d94ded-6884-4bcb-a1b3-10c008ca61d9",
   "metadata": {},
   "outputs": [],
   "source": []
  },
  {
   "cell_type": "markdown",
   "id": "20f7eae0-4ce0-40d4-9cf6-3e7dd678eccc",
   "metadata": {},
   "source": [
    "### round\n",
    "\n",
    "Permite redondear números"
   ]
  },
  {
   "cell_type": "code",
   "execution_count": null,
   "id": "db13076a-c651-41e3-995a-a6fbdd9a29fc",
   "metadata": {},
   "outputs": [],
   "source": []
  },
  {
   "cell_type": "code",
   "execution_count": 28,
   "id": "e70c4ef6-da52-4995-9fa8-69ee3b09d3bf",
   "metadata": {},
   "outputs": [
    {
     "data": {
      "text/plain": [
       "78.36"
      ]
     },
     "execution_count": 28,
     "metadata": {},
     "output_type": "execute_result"
    }
   ],
   "source": [
    "numero_decimal_4_cifras = 78.3625\n",
    "\n",
    "numero_redondeado_2_cifras = round(numero_decimal_4_cifras,2) #2 define la cantidad de decimales que quiero obtener\n",
    "\n",
    "numero_redondeado_2_cifras"
   ]
  },
  {
   "cell_type": "code",
   "execution_count": null,
   "id": "f30ca742-b794-4437-bd79-32e22a3d9cd3",
   "metadata": {},
   "outputs": [],
   "source": []
  },
  {
   "cell_type": "code",
   "execution_count": 35,
   "id": "1fdd68d1-db29-465f-be89-165637a79acc",
   "metadata": {},
   "outputs": [
    {
     "data": {
      "text/plain": [
       "(24.0, float)"
      ]
     },
     "execution_count": 35,
     "metadata": {},
     "output_type": "execute_result"
    }
   ],
   "source": [
    "variable_decimal_prueba = 23.89\n",
    "\n",
    "variable_redondeada_0_cifras = round(variable_decimal_prueba, 0)\n",
    "\n",
    "variable_redondeada_0_cifras, type(variable_redondeada_0_cifras)\n"
   ]
  },
  {
   "cell_type": "code",
   "execution_count": null,
   "id": "ff1cbe1d-a4dd-45c5-8580-a8d1101fbbe4",
   "metadata": {},
   "outputs": [],
   "source": []
  },
  {
   "cell_type": "code",
   "execution_count": 30,
   "id": "084f64ed-68c9-4cc3-8991-0a946f2c1994",
   "metadata": {},
   "outputs": [
    {
     "data": {
      "text/plain": [
       "(23, int)"
      ]
     },
     "execution_count": 30,
     "metadata": {},
     "output_type": "execute_result"
    }
   ],
   "source": [
    "variable_decimal_prueba = 23.89\n",
    "\n",
    "variable_entera_prueba = int(variable_decimal_prueba)\n",
    "\n",
    "variable_entera_prueba, type(variable_entera_prueba)"
   ]
  },
  {
   "cell_type": "code",
   "execution_count": null,
   "id": "1f57a2ea-580b-47f0-b454-81ecfb8f7e7e",
   "metadata": {},
   "outputs": [],
   "source": []
  },
  {
   "cell_type": "code",
   "execution_count": 36,
   "id": "3535ae7f-4736-44e4-8c48-dae82eac1490",
   "metadata": {},
   "outputs": [
    {
     "data": {
      "text/plain": [
       "(24, int)"
      ]
     },
     "execution_count": 36,
     "metadata": {},
     "output_type": "execute_result"
    }
   ],
   "source": [
    "variable_decimal_prueba = 23.89\n",
    "\n",
    "variable_transformada = int(round(variable_decimal_prueba,0))\n",
    "\n",
    "variable_transformada, type(variable_transformada)"
   ]
  },
  {
   "cell_type": "code",
   "execution_count": null,
   "id": "da266a46-7102-4c43-a636-05cce7f232bf",
   "metadata": {},
   "outputs": [],
   "source": []
  },
  {
   "cell_type": "markdown",
   "id": "06bb9755-29f9-487f-b378-9435d61b66de",
   "metadata": {},
   "source": [
    "### Otras funciones nativas\n",
    "\n",
    "#### int()\n",
    "#### float()\n",
    "#### str()\n",
    "#### bool()"
   ]
  },
  {
   "cell_type": "code",
   "execution_count": null,
   "id": "93f94d72-de63-4d3c-9ade-c53f74d862a0",
   "metadata": {},
   "outputs": [],
   "source": []
  },
  {
   "cell_type": "raw",
   "id": "60fae4f0-497d-48a9-8030-de90d819e794",
   "metadata": {},
   "source": []
  },
  {
   "cell_type": "code",
   "execution_count": null,
   "id": "54cfdfc2-9ad7-4006-bd19-b443b839b464",
   "metadata": {},
   "outputs": [],
   "source": []
  },
  {
   "cell_type": "markdown",
   "id": "424d3e62-aaab-4d0e-af46-4aedc1b75e36",
   "metadata": {},
   "source": [
    "## Funciones definidas por el usuario\n",
    "\n",
    "Funciones o código que realiza una acción/tarea ya definida por el usuario\n",
    "\n",
    "Para crear una función se debe resetar la siguiente estructura:\n",
    " **def 'nombreFuncion' ('argumentos (opcionales)'):**\n",
    "\n",
    "Hay 2 separaciones:\n",
    "\n",
    "**Por parámetros:**\n",
    "- sin parámetros\n",
    "- con parametros\n",
    "\n",
    "**Por retorno:**\n",
    "- sin retorno\n",
    "- con retorno"
   ]
  },
  {
   "cell_type": "markdown",
   "id": "193647cd-4639-4982-b0c9-614369143931",
   "metadata": {},
   "source": []
  },
  {
   "cell_type": "markdown",
   "id": "1a4b5bde-f524-4a7b-b38d-afba6ad0580b",
   "metadata": {},
   "source": [
    "### Sin parámetros y "
   ]
  },
  {
   "cell_type": "code",
   "execution_count": null,
   "id": "bb2631ae-d1e4-484b-b6dc-4043b6fe3d3f",
   "metadata": {},
   "outputs": [],
   "source": []
  },
  {
   "cell_type": "code",
   "execution_count": 37,
   "id": "d2093015-4e8f-4686-bad0-9a0e9a7a82c3",
   "metadata": {},
   "outputs": [],
   "source": [
    "def funcionSaludar():\n",
    "    print(\"Hola, buenos días\")"
   ]
  },
  {
   "cell_type": "code",
   "execution_count": 38,
   "id": "2213feab-cff8-45f4-bb59-d8672681c938",
   "metadata": {},
   "outputs": [
    {
     "name": "stdout",
     "output_type": "stream",
     "text": [
      "Hola, buenos días\n"
     ]
    }
   ],
   "source": [
    "funcionSaludar()"
   ]
  },
  {
   "cell_type": "code",
   "execution_count": null,
   "id": "6f05a6b8-3b16-4e12-a2db-6e9334b2987a",
   "metadata": {},
   "outputs": [],
   "source": []
  },
  {
   "cell_type": "markdown",
   "id": "5d53a3b8-1cab-4fc0-96a5-114d5717b3b0",
   "metadata": {},
   "source": [
    "### Con parámentros y sin retorno"
   ]
  },
  {
   "cell_type": "code",
   "execution_count": null,
   "id": "01d4bb94-a0cf-4337-a98c-dec65cfaae3b",
   "metadata": {},
   "outputs": [],
   "source": []
  },
  {
   "cell_type": "code",
   "execution_count": 39,
   "id": "6a7bef71-882d-4843-bb16-69f21a547ae0",
   "metadata": {},
   "outputs": [],
   "source": [
    "def funcionSaludoPersonalizado(nombre):\n",
    "    print(\"Hola, buenos días Sr.\", nombre)"
   ]
  },
  {
   "cell_type": "code",
   "execution_count": 45,
   "id": "453d8976-ad83-4992-b38e-9abbeaae211f",
   "metadata": {},
   "outputs": [
    {
     "name": "stdout",
     "output_type": "stream",
     "text": [
      "Hola, buenos días Sr Andrés\n"
     ]
    }
   ],
   "source": [
    "nombre_usuario = \"Andrés\"\n",
    "\n",
    "funcionSaludoPersonalizado(nombre_usuario)"
   ]
  },
  {
   "cell_type": "code",
   "execution_count": null,
   "id": "c02982c2-1328-4b1d-9714-4979e68d4fd2",
   "metadata": {},
   "outputs": [],
   "source": []
  },
  {
   "cell_type": "markdown",
   "id": "e5f4f569-e567-4a72-b99c-0db0d74e25e3",
   "metadata": {},
   "source": [
    "### Con parámetros y retorno"
   ]
  },
  {
   "cell_type": "code",
   "execution_count": null,
   "id": "0bc6798e-2233-4f42-9073-d76a41421f79",
   "metadata": {},
   "outputs": [],
   "source": []
  },
  {
   "cell_type": "code",
   "execution_count": 46,
   "id": "a658d2db-4b0f-4e60-bc8a-dbae78808b3e",
   "metadata": {},
   "outputs": [],
   "source": [
    "def funcionSumar(a,b):\n",
    "    return(a+b)\n",
    "\n",
    "    "
   ]
  },
  {
   "cell_type": "code",
   "execution_count": 48,
   "id": "0f6608e0-61a0-4608-a5fa-c211f7781c01",
   "metadata": {},
   "outputs": [
    {
     "data": {
      "text/plain": [
       "7"
      ]
     },
     "execution_count": 48,
     "metadata": {},
     "output_type": "execute_result"
    }
   ],
   "source": [
    "resultadoOperacion = funcionSumar(5,2)\n",
    "\n",
    "resultadoOperacion"
   ]
  },
  {
   "cell_type": "code",
   "execution_count": null,
   "id": "de5597ac-0fdf-40c3-b947-33cae3239969",
   "metadata": {},
   "outputs": [],
   "source": []
  }
 ],
 "metadata": {
  "kernelspec": {
   "display_name": "Python 3 (ipykernel)",
   "language": "python",
   "name": "python3"
  },
  "language_info": {
   "codemirror_mode": {
    "name": "ipython",
    "version": 3
   },
   "file_extension": ".py",
   "mimetype": "text/x-python",
   "name": "python",
   "nbconvert_exporter": "python",
   "pygments_lexer": "ipython3",
   "version": "3.11.7"
  }
 },
 "nbformat": 4,
 "nbformat_minor": 5
}
